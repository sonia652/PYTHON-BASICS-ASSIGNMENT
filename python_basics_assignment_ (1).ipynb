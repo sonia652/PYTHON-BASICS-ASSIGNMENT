{
  "nbformat": 4,
  "nbformat_minor": 0,
  "metadata": {
    "colab": {
      "provenance": []
    },
    "kernelspec": {
      "name": "python3",
      "display_name": "Python 3"
    },
    "language_info": {
      "name": "python"
    }
  },
  "cells": [
    {
      "cell_type": "code",
      "execution_count": null,
      "metadata": {
        "id": "QRh6ErvW_jmR"
      },
      "outputs": [],
      "source": []
    },
    {
      "cell_type": "markdown",
      "source": [],
      "metadata": {
        "id": "r5b1igbw72bT"
      }
    },
    {
      "cell_type": "code",
      "source": [],
      "metadata": {
        "id": "xJ2Pke3ZDg_x"
      },
      "execution_count": null,
      "outputs": []
    },
    {
      "cell_type": "markdown",
      "source": [
        " QUESTION 1 . What is python , and why is it popular?\n",
        "# -\n",
        "Python is a high-level, interpreted programming language known for its readability and simplicity.\n",
        "\n",
        "Its popularity stems from several factors:\n",
        "\n",
        "Easy to learn and use: Python's syntax is straightforward and resembles natural language, making it accessible to beginners.\n",
        "Versatile: It can be used for a wide range of applications, including web development, data analysis, artificial intelligence, scientific computing, and automation.\n",
        "Large and active community: Python has a massive and supportive community, providing extensive documentation, libraries, and frameworks.\n",
        "Extensive libraries: Python offers a vast collection of pre-built libraries and modules that simplify complex tasks.\n",
        "Platform independent: Python code can run on various operating systems without modification.\n",
        "Open-source and free: Python is freely available and open-source, making it cost-effective for individuals and organizations.\n",
        "These factors contribute to Python's widespread adoption and popularity across various industries and domains.\n",
        "\n",
        "# Question 2 . what is an interpreter in python?\n",
        "- In Python, an interpreter is a program that directly executes code line by line. When you run a Python script, the interpreter reads each line of code, translates it into machine code that the computer can understand, and then runs it immediately. This is different from a compiled language where the entire code is converted into an executable file before running. The interpreter makes Python a very dynamic and interactive language.\n",
        "\n",
        "#  Question 3. what are pre - defined keywords in python ?\n",
        "\n",
        "- In Python, an interpreter is a program that directly executes code line by line. When you run a Python script, the interpreter reads each line of code, translates it into machine code that the computer can understand, and then runs it immediately. This is different from a compiled language where the entire code is converted into an executable file before running. The interpreter ma kes Python a very dynamic and interactive language.\n",
        "\n",
        "# QUESTION 4. Can keywords be used as variable names ?\n",
        " - No, keywords cannot be used as variable names in Python. Keywords are reserved words that have specific meanings and functions within the Python language. Using them as variable names would lead to syntax errors and prevent your code from running correctly.\n",
        "\n",
        "Think of keywords as special instructions for the Python interpreter; they are not available for you to assign your own values to.\n",
        " # QUESTION 5. What is mutability in python?\n",
        " - In Python, mutability refers to whether the state of an object can be changed after it is created.\n",
        " # QUESTION 6. why are lists mutable , but tuples are immutable ?\n",
        " - The core reason why lists are mutable and tuples are immutable lies in their design and intended use:\n",
        "\n",
        "Lists are designed for ordered collections where elements can be added, removed, or changed. They are meant to be dynamic and flexible data structures. Think of a shopping list where you might add or remove items as you shop. This dynamic nature requires them to be mutable.\n",
        "Tuples are designed for ordered collections where the elements are intended to be constant or fixed. They are meant to represent a fixed sequence of items that shouldn't change once created. Think of coordinates (like latitude and longitude) or a record of related data points that should stay together. Their immutability provides a guarantee that the data within them won't be accidentally altered.\n",
        "# QUESTION 7 .What is the difference between ' == ' and \" is\" operators in python?\n",
        "- The == and is operators in Python are used for comparison, but they check for different things:\n",
        "\n",
        "== (Equality operator): This operator checks if the values of two operands are equal. It compares the content of the objects.\n",
        "list1 = [1, 2, 3]\n",
        "list2 = [1, 2, 3]\n",
        "\n",
        "print(list1 == list2)  # Output: True (because the values are the same)\n",
        "is (Identity operator): This operator checks if two operands refer to the same object in memory. It compares the memory addresses of the objects.\n",
        "list1 = [1, 2, 3]\n",
        "list2 = [1, 2, 3]\n",
        "list3 = list1\n",
        "\n",
        "print(list1 is list2)  # Output: False (list1 and list2 are different objects in memory)\n",
        "print(list1 is list3)  # Output: True (list1 and list3 refer to the same object in memory)\n",
        "In summary:\n",
        "\n",
        "Use == when you want to check if two variables have the same value.\n",
        "Use is when you want to check if two variables refer to the exact same object in memory.\n",
        "For immutable objects like numbers and strings, is can sometimes behave like == due to Python's internal optimizations (it might reuse the same object for identical values), but it's generally safer and clearer to use == for value comparison and is for identity comparison.\n",
        " # QUESTION 8. what are logical operators in python ?\n",
        " - In Python, logical operators are used to combine conditional statements. They return boolean values (True or False). The three main logical operators are:\n",
        "\n",
        "and: Returns True if both operands are True. Otherwise, it returns False.\n",
        "x = 5\n",
        "print(x > 3 and x < 10)  # Output: True (because both conditions are True)\n",
        "or: Returns True if at least one of the operands is True. Otherwise, it returns False.\n",
        "y = 2\n",
        "print(y > 3 or y < 5)  # Output: True (because the second condition is True)\n",
        "not: Returns the inverse of the boolean value of the operand. If the operand is True, it returns False, and if the operand is False, it returns True.\n",
        "z = True\n",
        "print(not z)  # Output: False\n",
        "These logical operators are frequently used in if statements and while loops to control the flow of your program based on multiple conditions.\n",
        " # QUESTION 9 . What is type casting in Python ?\n",
        " - In Python, type casting (or type conversion) is the process of converting an object from one data type to another. This is useful when you need to perform operations that require a specific data type, or when you need to change the way data is represented.\n",
        "#\n",
        "\n",
        "\n",
        "\n",
        "\n",
        "\n",
        "\n",
        "\n",
        "\n",
        "\n",
        "\n",
        "\n",
        "\n"
      ],
      "metadata": {
        "id": "TCBcqgJnAWZy"
      }
    },
    {
      "cell_type": "markdown",
      "source": [
        "# QUESTION 10. what  is the difference between implicit and explicit type casting ?\n",
        "-   implicit - python automatically converts 3 + 4.5 = 7.5 ( int + float = float)\n",
        "\n",
        "- explicit - manually done by the programmer\n",
        "int('5'), float ( \"3.14\")\n",
        "\n",
        "# QUESTION 11. purpose of conditional statements  in python ?\n",
        "- conditonal statements ( control the flow ) of a program based on conditions.\n",
        "they allow the program to make ( decisions).\n",
        "example :\n",
        "if age > = 18:\n",
        "print(' you can vote')\n",
        "\n",
        "# QUESTION 12. how does the elif statement work ?\n",
        "- elif ( else if ) checks another conditon * if the previous if was false * .\n",
        "example-\n",
        "if score > 90 ;\n",
        "print ( 'a')\n",
        "elif score >  80 ;\n",
        "print ('b')\n",
        "else ;\n",
        "print ('c')\n",
        "\n",
        "\n",
        "# QUESTION 13. Difference between for and while loop:\n",
        "- for loop:\n",
        "\n",
        "Used for iterating over a sequence (like a list, tuple, string, or range) or other iterable objects.\n",
        "The loop continues until all items in the sequence have been processed.\n",
        "You typically use a for loop when you know in advance how many times you want to iterate.\n",
        "\n",
        "- while loop:\n",
        "\n",
        "Used to execute a block of code as long as a given condition is true.\n",
        "The loop continues as long as the condition remains true.\n",
        "You typically use a while loop when you don't know in advance how many times you need to iterate, and the loop continues until a specific condition is met.\n",
        "\n",
        "# QUESTION 14. describe a scenario where a while loop is more suitable than a loop.\n",
        "- import random\n",
        "\n",
        "secret_number = random.randint(1, 100)\n",
        "guess = 0\n",
        "\n",
        "print(\"Guess the secret number between 1 and 100!\")\n",
        "\n",
        "while guess != secret_number:\n",
        "  try:\n",
        "    guess = int(input(\"Enter your guess: \"))\n",
        "    if guess < secret_number:\n",
        "      print(\"Too low! Try again.\")\n",
        "    elif guess > secret_number:\n",
        "      print(\"Too high! Try again.\")\n",
        "  except ValueError:\n",
        "    print(\"Invalid input. Please enter an integer.\")\n",
        "\n",
        "print(f\"Congratulations! You guessed the secret number: {secret_number}\")\n"
      ],
      "metadata": {
        "id": "0WKmzmke748o"
      }
    },
    {
      "cell_type": "code",
      "source": [],
      "metadata": {
        "id": "zSuGYTo2GHLU"
      },
      "execution_count": null,
      "outputs": []
    },
    {
      "cell_type": "code",
      "source": [
        "# question 1. write a python program to  ' hello world !'\n",
        "print('hello world')"
      ],
      "metadata": {
        "colab": {
          "base_uri": "https://localhost:8080/"
        },
        "id": "Al-7KlGpF6PH",
        "outputId": "27c98f8f-26f8-4397-bc35-bb1a8bc06392"
      },
      "execution_count": null,
      "outputs": [
        {
          "output_type": "stream",
          "name": "stdout",
          "text": [
            "hello world\n"
          ]
        }
      ]
    },
    {
      "cell_type": "code",
      "source": [
        " # question 2.\n",
        " print('sonia and age 18')\n"
      ],
      "metadata": {
        "colab": {
          "base_uri": "https://localhost:8080/"
        },
        "id": "MNdy6iOyKmzm",
        "outputId": "67331e29-d9a0-4fe6-ec25-331b753cb21e"
      },
      "execution_count": null,
      "outputs": [
        {
          "output_type": "stream",
          "name": "stdout",
          "text": [
            "sonia and age 18\n"
          ]
        }
      ]
    },
    {
      "cell_type": "code",
      "source": [
        "# question3.\n",
        "library = help('keywords')\n",
        "library\n"
      ],
      "metadata": {
        "colab": {
          "base_uri": "https://localhost:8080/"
        },
        "id": "ORIfmDrTL9_X",
        "outputId": "1c92a267-cdb6-4dd0-c15e-33165ff97930"
      },
      "execution_count": null,
      "outputs": [
        {
          "output_type": "stream",
          "name": "stdout",
          "text": [
            "\n",
            "Here is a list of the Python keywords.  Enter any keyword to get more help.\n",
            "\n",
            "False               class               from                or\n",
            "None                continue            global              pass\n",
            "True                def                 if                  raise\n",
            "and                 del                 import              return\n",
            "as                  elif                in                  try\n",
            "assert              else                is                  while\n",
            "async               except              lambda              with\n",
            "await               finally             nonlocal            yield\n",
            "break               for                 not                 \n",
            "\n"
          ]
        }
      ]
    },
    {
      "cell_type": "code",
      "source": [
        "# QUESTOIN . 4\n",
        "_keyword= \"if\"\n",
        "help('keywords')\n",
        "if keyowrd.iskeyword(_keyword):\n",
        "  print(_keyword,\"is a keyword\")\n",
        "else:\n",
        "  print(_keyword, \"is not a keyword\")"
      ],
      "metadata": {
        "id": "m6YYBqWlNUfY",
        "colab": {
          "base_uri": "https://localhost:8080/",
          "height": 436
        },
        "outputId": "6b157fbb-2009-4405-c376-7575fc476bfb"
      },
      "execution_count": 5,
      "outputs": [
        {
          "output_type": "stream",
          "name": "stdout",
          "text": [
            "\n",
            "Here is a list of the Python keywords.  Enter any keyword to get more help.\n",
            "\n",
            "False               class               from                or\n",
            "None                continue            global              pass\n",
            "True                def                 if                  raise\n",
            "and                 del                 import              return\n",
            "as                  elif                in                  try\n",
            "assert              else                is                  while\n",
            "async               except              lambda              with\n",
            "await               finally             nonlocal            yield\n",
            "break               for                 not                 \n",
            "\n"
          ]
        },
        {
          "output_type": "error",
          "ename": "NameError",
          "evalue": "name 'keyowrd' is not defined",
          "traceback": [
            "\u001b[0;31m---------------------------------------------------------------------------\u001b[0m",
            "\u001b[0;31mNameError\u001b[0m                                 Traceback (most recent call last)",
            "\u001b[0;32m<ipython-input-5-40d99a582e3f>\u001b[0m in \u001b[0;36m<cell line: 0>\u001b[0;34m()\u001b[0m\n\u001b[1;32m      2\u001b[0m \u001b[0m_keyword\u001b[0m\u001b[0;34m=\u001b[0m \u001b[0;34m\"if\"\u001b[0m\u001b[0;34m\u001b[0m\u001b[0;34m\u001b[0m\u001b[0m\n\u001b[1;32m      3\u001b[0m \u001b[0mhelp\u001b[0m\u001b[0;34m(\u001b[0m\u001b[0;34m'keywords'\u001b[0m\u001b[0;34m)\u001b[0m\u001b[0;34m\u001b[0m\u001b[0;34m\u001b[0m\u001b[0m\n\u001b[0;32m----> 4\u001b[0;31m \u001b[0;32mif\u001b[0m \u001b[0mkeyowrd\u001b[0m\u001b[0;34m.\u001b[0m\u001b[0miskeyword\u001b[0m\u001b[0;34m(\u001b[0m\u001b[0m_keyword\u001b[0m\u001b[0;34m)\u001b[0m\u001b[0;34m:\u001b[0m\u001b[0;34m\u001b[0m\u001b[0;34m\u001b[0m\u001b[0m\n\u001b[0m\u001b[1;32m      5\u001b[0m   \u001b[0mprint\u001b[0m\u001b[0;34m(\u001b[0m\u001b[0m_keyword\u001b[0m\u001b[0;34m,\u001b[0m\u001b[0;34m\"is a keyword\"\u001b[0m\u001b[0;34m)\u001b[0m\u001b[0;34m\u001b[0m\u001b[0;34m\u001b[0m\u001b[0m\n\u001b[1;32m      6\u001b[0m \u001b[0;32melse\u001b[0m\u001b[0;34m:\u001b[0m\u001b[0;34m\u001b[0m\u001b[0;34m\u001b[0m\u001b[0m\n",
            "\u001b[0;31mNameError\u001b[0m: name 'keyowrd' is not defined"
          ]
        }
      ]
    },
    {
      "cell_type": "code",
      "source": [
        "# QUESTION.5\n",
        "\n",
        "list = [ 23, 12, 'sonia', ' daksha']\n",
        "list"
      ],
      "metadata": {
        "colab": {
          "base_uri": "https://localhost:8080/"
        },
        "id": "6gRH3LZ9NVSp",
        "outputId": "7498e533-7215-4c8e-e0d5-62bfedeae9a4"
      },
      "execution_count": null,
      "outputs": [
        {
          "output_type": "execute_result",
          "data": {
            "text/plain": [
              "[23, 12, 'sonia', ' daksha']"
            ]
          },
          "metadata": {},
          "execution_count": 28
        }
      ]
    },
    {
      "cell_type": "code",
      "source": [
        "list[2] = ' dwiti'\n",
        "list"
      ],
      "metadata": {
        "colab": {
          "base_uri": "https://localhost:8080/"
        },
        "id": "RJ-NQys2OOrB",
        "outputId": "d0d56e73-4b1c-4c33-c148-7c3b831b1581"
      },
      "execution_count": null,
      "outputs": [
        {
          "output_type": "execute_result",
          "data": {
            "text/plain": [
              "[23, 12, ' dwiti', ' daksha']"
            ]
          },
          "metadata": {},
          "execution_count": 31
        }
      ]
    },
    {
      "cell_type": "code",
      "source": [
        "tuple = (23, 9, 4+5j, ' sonia')\n",
        "tuple"
      ],
      "metadata": {
        "colab": {
          "base_uri": "https://localhost:8080/"
        },
        "id": "oABq7IKkPZCT",
        "outputId": "703eebb0-cb26-4394-adc9-f8fd6d32a8f1"
      },
      "execution_count": null,
      "outputs": [
        {
          "output_type": "execute_result",
          "data": {
            "text/plain": [
              "(23, 9, (4+5j), ' sonia')"
            ]
          },
          "metadata": {},
          "execution_count": 32
        }
      ]
    },
    {
      "cell_type": "code",
      "source": [
        "tuple[1] = 7\n",
        "tuple\n",
        "  # TUPLE CAN NOT BE MODIFIED."
      ],
      "metadata": {
        "colab": {
          "base_uri": "https://localhost:8080/",
          "height": 158
        },
        "id": "T5Kvywo7QPZV",
        "outputId": "8151518f-1d01-45e2-ab58-533deb3bc62d"
      },
      "execution_count": null,
      "outputs": [
        {
          "output_type": "error",
          "ename": "TypeError",
          "evalue": "'tuple' object does not support item assignment",
          "traceback": [
            "\u001b[0;31m---------------------------------------------------------------------------\u001b[0m",
            "\u001b[0;31mTypeError\u001b[0m                                 Traceback (most recent call last)",
            "\u001b[0;32m<ipython-input-33-4144aadb1ade>\u001b[0m in \u001b[0;36m<cell line: 0>\u001b[0;34m()\u001b[0m\n\u001b[0;32m----> 1\u001b[0;31m \u001b[0mtuple\u001b[0m\u001b[0;34m[\u001b[0m\u001b[0;36m1\u001b[0m\u001b[0;34m]\u001b[0m \u001b[0;34m=\u001b[0m \u001b[0;36m7\u001b[0m\u001b[0;34m\u001b[0m\u001b[0;34m\u001b[0m\u001b[0m\n\u001b[0m\u001b[1;32m      2\u001b[0m \u001b[0mtuple\u001b[0m\u001b[0;34m\u001b[0m\u001b[0;34m\u001b[0m\u001b[0m\n",
            "\u001b[0;31mTypeError\u001b[0m: 'tuple' object does not support item assignment"
          ]
        }
      ]
    },
    {
      "cell_type": "code",
      "source": [
        " # QUESTION 6.\n",
        "\n",
        "list = [ 30, 43, ' anshu', ' parvati']\n",
        "list"
      ],
      "metadata": {
        "colab": {
          "base_uri": "https://localhost:8080/"
        },
        "id": "FeQw85mwQpuq",
        "outputId": "ba226140-3bc5-446a-9c4a-952ed5207bc6"
      },
      "execution_count": null,
      "outputs": [
        {
          "output_type": "execute_result",
          "data": {
            "text/plain": [
              "[30, 43, ' anshu', ' parvati']"
            ]
          },
          "metadata": {},
          "execution_count": 37
        }
      ]
    },
    {
      "cell_type": "code",
      "source": [
        "list[2] = ' sanjana'\n",
        "list"
      ],
      "metadata": {
        "colab": {
          "base_uri": "https://localhost:8080/"
        },
        "id": "poFxbNAySm0m",
        "outputId": "d6e205fc-e507-4b8e-cd33-0d608cce8866"
      },
      "execution_count": null,
      "outputs": [
        {
          "output_type": "execute_result",
          "data": {
            "text/plain": [
              "[30, 43, ' sanjana', ' parvati']"
            ]
          },
          "metadata": {},
          "execution_count": 38
        }
      ]
    },
    {
      "cell_type": "code",
      "source": [
        "tuple = (50, 76, 'raj',' karan')\n",
        "tuple"
      ],
      "metadata": {
        "colab": {
          "base_uri": "https://localhost:8080/"
        },
        "id": "_BUrvK92S40E",
        "outputId": "12f1c39b-abde-472e-9025-39109902c3b5"
      },
      "execution_count": null,
      "outputs": [
        {
          "output_type": "execute_result",
          "data": {
            "text/plain": [
              "(50, 76, 'raj', ' karan')"
            ]
          },
          "metadata": {},
          "execution_count": 43
        }
      ]
    },
    {
      "cell_type": "code",
      "source": [
        "tuple[1] = 90\n",
        "tuple"
      ],
      "metadata": {
        "colab": {
          "base_uri": "https://localhost:8080/",
          "height": 158
        },
        "id": "eRbBaCczTYbB",
        "outputId": "95215b61-2832-4604-b170-121db3db090a"
      },
      "execution_count": null,
      "outputs": [
        {
          "output_type": "error",
          "ename": "TypeError",
          "evalue": "'tuple' object does not support item assignment",
          "traceback": [
            "\u001b[0;31m---------------------------------------------------------------------------\u001b[0m",
            "\u001b[0;31mTypeError\u001b[0m                                 Traceback (most recent call last)",
            "\u001b[0;32m<ipython-input-44-c002dab82de3>\u001b[0m in \u001b[0;36m<cell line: 0>\u001b[0;34m()\u001b[0m\n\u001b[0;32m----> 1\u001b[0;31m \u001b[0mtuple\u001b[0m\u001b[0;34m[\u001b[0m\u001b[0;36m1\u001b[0m\u001b[0;34m]\u001b[0m \u001b[0;34m=\u001b[0m \u001b[0;36m90\u001b[0m\u001b[0;34m\u001b[0m\u001b[0;34m\u001b[0m\u001b[0m\n\u001b[0m\u001b[1;32m      2\u001b[0m \u001b[0mtuple\u001b[0m\u001b[0;34m\u001b[0m\u001b[0;34m\u001b[0m\u001b[0m\n",
            "\u001b[0;31mTypeError\u001b[0m: 'tuple' object does not support item assignment"
          ]
        }
      ]
    },
    {
      "cell_type": "code",
      "source": [
        "# QUESTION 7.\n",
        "a = 7\n",
        "b = 8\n",
        "a+b\n"
      ],
      "metadata": {
        "colab": {
          "base_uri": "https://localhost:8080/"
        },
        "id": "hp_lL8GVUAqD",
        "outputId": "aa58a3e6-64e2-4b41-994b-158b5c6d3342"
      },
      "execution_count": null,
      "outputs": [
        {
          "output_type": "execute_result",
          "data": {
            "text/plain": [
              "15"
            ]
          },
          "metadata": {},
          "execution_count": 48
        }
      ]
    },
    {
      "cell_type": "code",
      "source": [
        "a = 8\n",
        "b = 6\n",
        "a-b"
      ],
      "metadata": {
        "colab": {
          "base_uri": "https://localhost:8080/"
        },
        "id": "hJjZByQkUhhL",
        "outputId": "d56da518-77ca-48d6-9fb7-9bbb0e121a41"
      },
      "execution_count": null,
      "outputs": [
        {
          "output_type": "execute_result",
          "data": {
            "text/plain": [
              "2"
            ]
          },
          "metadata": {},
          "execution_count": 49
        }
      ]
    },
    {
      "cell_type": "code",
      "source": [
        "a = 20\n",
        "b = 4\n",
        "a/b"
      ],
      "metadata": {
        "colab": {
          "base_uri": "https://localhost:8080/"
        },
        "id": "6nCM6EzwUpkQ",
        "outputId": "2f61af22-603d-4975-e9f7-442028842a94"
      },
      "execution_count": null,
      "outputs": [
        {
          "output_type": "execute_result",
          "data": {
            "text/plain": [
              "5.0"
            ]
          },
          "metadata": {},
          "execution_count": 51
        }
      ]
    },
    {
      "cell_type": "code",
      "source": [
        " a = 5\n",
        " b = 3\n",
        " a*b"
      ],
      "metadata": {
        "colab": {
          "base_uri": "https://localhost:8080/"
        },
        "id": "Z66KtJ6tUzna",
        "outputId": "893beed3-fd4a-40db-85d2-011c83947ef3"
      },
      "execution_count": null,
      "outputs": [
        {
          "output_type": "execute_result",
          "data": {
            "text/plain": [
              "15"
            ]
          },
          "metadata": {},
          "execution_count": 52
        }
      ]
    },
    {
      "cell_type": "code",
      "source": [
        "13%4"
      ],
      "metadata": {
        "colab": {
          "base_uri": "https://localhost:8080/"
        },
        "id": "PQmQDvVzU6U4",
        "outputId": "bf5dc9ea-5b35-46bc-a27c-2351267d2f36"
      },
      "execution_count": null,
      "outputs": [
        {
          "output_type": "execute_result",
          "data": {
            "text/plain": [
              "1"
            ]
          },
          "metadata": {},
          "execution_count": 53
        }
      ]
    },
    {
      "cell_type": "code",
      "source": [
        "# QUESTION 8.\n",
        "\n",
        "True and True"
      ],
      "metadata": {
        "colab": {
          "base_uri": "https://localhost:8080/"
        },
        "id": "RK60hVkUVANR",
        "outputId": "e5e86278-ced2-40cc-a75c-ad8fdc5e48dd"
      },
      "execution_count": null,
      "outputs": [
        {
          "output_type": "execute_result",
          "data": {
            "text/plain": [
              "True"
            ]
          },
          "metadata": {},
          "execution_count": 57
        }
      ]
    },
    {
      "cell_type": "code",
      "source": [
        "True and False"
      ],
      "metadata": {
        "colab": {
          "base_uri": "https://localhost:8080/"
        },
        "id": "tvqPj-DzV48B",
        "outputId": "32ece139-8a70-4255-b20e-50a896f52194"
      },
      "execution_count": null,
      "outputs": [
        {
          "output_type": "execute_result",
          "data": {
            "text/plain": [
              "False"
            ]
          },
          "metadata": {},
          "execution_count": 58
        }
      ]
    },
    {
      "cell_type": "code",
      "source": [
        "False and False"
      ],
      "metadata": {
        "colab": {
          "base_uri": "https://localhost:8080/"
        },
        "id": "cpLaOSn_V_CK",
        "outputId": "41182874-7736-44ce-97f5-473a7d3cb519"
      },
      "execution_count": null,
      "outputs": [
        {
          "output_type": "execute_result",
          "data": {
            "text/plain": [
              "False"
            ]
          },
          "metadata": {},
          "execution_count": 60
        }
      ]
    },
    {
      "cell_type": "code",
      "source": [
        "True or False"
      ],
      "metadata": {
        "colab": {
          "base_uri": "https://localhost:8080/"
        },
        "id": "cxOYR5KcWDsL",
        "outputId": "522086af-68c7-4966-ae17-2bfb717b37eb"
      },
      "execution_count": null,
      "outputs": [
        {
          "output_type": "execute_result",
          "data": {
            "text/plain": [
              "True"
            ]
          },
          "metadata": {},
          "execution_count": 61
        }
      ]
    },
    {
      "cell_type": "code",
      "source": [
        "True or True"
      ],
      "metadata": {
        "colab": {
          "base_uri": "https://localhost:8080/"
        },
        "id": "9pUxbqeEWOt6",
        "outputId": "42a9e728-b6cd-4ec8-d41f-0ab023ca54bb"
      },
      "execution_count": null,
      "outputs": [
        {
          "output_type": "execute_result",
          "data": {
            "text/plain": [
              "True"
            ]
          },
          "metadata": {},
          "execution_count": 62
        }
      ]
    },
    {
      "cell_type": "code",
      "source": [],
      "metadata": {
        "id": "7LIl6kEcWnl_"
      },
      "execution_count": null,
      "outputs": []
    },
    {
      "cell_type": "code",
      "source": [
        "# QUESTION 9. STRING TO INTEGER\n",
        " b = \"50\"\n",
        " type(b)"
      ],
      "metadata": {
        "colab": {
          "base_uri": "https://localhost:8080/",
          "height": 106
        },
        "id": "vQNrVwG0WVk8",
        "outputId": "0dfcaf2a-d8b4-43a0-f9f2-47bb6c06e500"
      },
      "execution_count": null,
      "outputs": [
        {
          "output_type": "error",
          "ename": "IndentationError",
          "evalue": "unexpected indent (<ipython-input-81-2a33ffa5de1a>, line 2)",
          "traceback": [
            "\u001b[0;36m  File \u001b[0;32m\"<ipython-input-81-2a33ffa5de1a>\"\u001b[0;36m, line \u001b[0;32m2\u001b[0m\n\u001b[0;31m    b = \"50\"\u001b[0m\n\u001b[0m    ^\u001b[0m\n\u001b[0;31mIndentationError\u001b[0m\u001b[0;31m:\u001b[0m unexpected indent\n"
          ]
        }
      ]
    },
    {
      "cell_type": "code",
      "source": [
        "# QUESTION 10.\n",
        "list=[\"2\",9,3.5,8,0]\n",
        "type(list[0])"
      ],
      "metadata": {
        "colab": {
          "base_uri": "https://localhost:8080/"
        },
        "id": "deOGEE-saMhA",
        "outputId": "d1306da6-41aa-4afe-a614-a126dc062090"
      },
      "execution_count": null,
      "outputs": [
        {
          "output_type": "execute_result",
          "data": {
            "text/plain": [
              "str"
            ]
          },
          "metadata": {},
          "execution_count": 83
        }
      ]
    },
    {
      "cell_type": "code",
      "source": [
        "bool(list[4])"
      ],
      "metadata": {
        "colab": {
          "base_uri": "https://localhost:8080/"
        },
        "id": "YlCVkg9MbCrO",
        "outputId": "472b22da-80eb-401e-9ee2-1215ea07b4e9"
      },
      "execution_count": null,
      "outputs": [
        {
          "output_type": "execute_result",
          "data": {
            "text/plain": [
              "False"
            ]
          },
          "metadata": {},
          "execution_count": 84
        }
      ]
    },
    {
      "cell_type": "code",
      "source": [
        "#QUESTION 11.\n",
        "a = 23\n",
        "if a == 0:\n",
        "  print(' zero')\n",
        "\n",
        "elif a > 0:\n",
        "  print(' positive')\n",
        "else :\n",
        "  print( 'negative')"
      ],
      "metadata": {
        "colab": {
          "base_uri": "https://localhost:8080/"
        },
        "id": "VkvDZxqYbCdc",
        "outputId": "2f49736e-8f16-4604-e0f6-3b5a43e85365"
      },
      "execution_count": null,
      "outputs": [
        {
          "output_type": "stream",
          "name": "stdout",
          "text": [
            " positive\n"
          ]
        }
      ]
    },
    {
      "cell_type": "code",
      "source": [
        "#QUESTION 12\n",
        "for i in range(1,11):\n",
        "  print(i)"
      ],
      "metadata": {
        "colab": {
          "base_uri": "https://localhost:8080/"
        },
        "id": "mH_iVIezcWEq",
        "outputId": "47d01814-c13b-4d5a-837d-11a550f63545"
      },
      "execution_count": null,
      "outputs": [
        {
          "output_type": "stream",
          "name": "stdout",
          "text": [
            "1\n",
            "2\n",
            "3\n",
            "4\n",
            "5\n",
            "6\n",
            "7\n",
            "8\n",
            "9\n",
            "10\n"
          ]
        }
      ]
    },
    {
      "cell_type": "code",
      "source": [
        "# QUESTION 13.\n",
        "sum_even = 0\n",
        "for number in range(1,51):\n",
        "  if number%2 == 0:\n",
        "    sum_even += number\n",
        "    print(\"sum of even no is :\",sum_even)"
      ],
      "metadata": {
        "colab": {
          "base_uri": "https://localhost:8080/"
        },
        "id": "TxAjHHvDVCkb",
        "outputId": "84dd3d71-1a66-46ab-bd53-6af9f292c2d6"
      },
      "execution_count": 2,
      "outputs": [
        {
          "output_type": "stream",
          "name": "stdout",
          "text": [
            "sum of even no is : 2\n",
            "sum of even no is : 6\n",
            "sum of even no is : 12\n",
            "sum of even no is : 20\n",
            "sum of even no is : 30\n",
            "sum of even no is : 42\n",
            "sum of even no is : 56\n",
            "sum of even no is : 72\n",
            "sum of even no is : 90\n",
            "sum of even no is : 110\n",
            "sum of even no is : 132\n",
            "sum of even no is : 156\n",
            "sum of even no is : 182\n",
            "sum of even no is : 210\n",
            "sum of even no is : 240\n",
            "sum of even no is : 272\n",
            "sum of even no is : 306\n",
            "sum of even no is : 342\n",
            "sum of even no is : 380\n",
            "sum of even no is : 420\n",
            "sum of even no is : 462\n",
            "sum of even no is : 506\n",
            "sum of even no is : 552\n",
            "sum of even no is : 600\n",
            "sum of even no is : 650\n"
          ]
        }
      ]
    },
    {
      "cell_type": "code",
      "source": [
        "# question 14 .\n",
        "count = 5\n",
        "while count>0:\n",
        "  print(count)\n",
        "  count = count -1"
      ],
      "metadata": {
        "colab": {
          "base_uri": "https://localhost:8080/"
        },
        "id": "iZ-nIWk9WP5k",
        "outputId": "05476106-5bbb-409c-bf42-4de3839abb11"
      },
      "execution_count": 3,
      "outputs": [
        {
          "output_type": "stream",
          "name": "stdout",
          "text": [
            "5\n",
            "4\n",
            "3\n",
            "2\n",
            "1\n"
          ]
        }
      ]
    },
    {
      "cell_type": "code",
      "source": [
        "# QUESTION 15.\n",
        "num = int( input('enter a number:'))\n",
        "factorial = 1\n",
        "i = 1\n",
        "while i<=num:\n",
        "  factorial *=1\n",
        "  i+=1\n",
        "  print(f\"the factorial of {num} is {factorial}\")"
      ],
      "metadata": {
        "colab": {
          "base_uri": "https://localhost:8080/"
        },
        "id": "3bL6lslQWvJ5",
        "outputId": "9ff80ecb-7ac2-487d-dc33-ea20aca0f88d"
      },
      "execution_count": 4,
      "outputs": [
        {
          "output_type": "stream",
          "name": "stdout",
          "text": [
            "enter a number:5\n",
            "the factorial of 5 is 1\n",
            "the factorial of 5 is 1\n",
            "the factorial of 5 is 1\n",
            "the factorial of 5 is 1\n",
            "the factorial of 5 is 1\n"
          ]
        }
      ]
    },
    {
      "cell_type": "markdown",
      "source": [],
      "metadata": {
        "id": "nH_M95PGAUV7"
      }
    },
    {
      "cell_type": "markdown",
      "source": [],
      "metadata": {
        "id": "MXMh3RZ-_sT7"
      }
    },
    {
      "cell_type": "markdown",
      "source": [],
      "metadata": {
        "id": "CPSsXrgKF2k1"
      }
    },
    {
      "cell_type": "markdown",
      "source": [],
      "metadata": {
        "id": "cPS9Y9fm_uh-"
      }
    },
    {
      "cell_type": "markdown",
      "source": [],
      "metadata": {
        "id": "_WfJGTbU_oJ7"
      }
    }
  ]
}